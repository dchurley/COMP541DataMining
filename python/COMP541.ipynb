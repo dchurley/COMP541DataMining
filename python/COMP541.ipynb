{
 "cells": [
  {
   "cell_type": "code",
   "execution_count": 38,
   "id": "3a76c0e2-4ca1-4c2e-b247-69870b6f299b",
   "metadata": {},
   "outputs": [],
   "source": [
    "#Author: Andrew Hurley\n",
    "#California State University Northridge\n",
    "#COMP 541\n",
    "#Professor Mansoureh Lord\n",
    "#May 3, 2024"
   ]
  },
  {
   "cell_type": "code",
   "execution_count": 37,
   "id": "4d1d5317-7339-4aed-b978-164907cce217",
   "metadata": {},
   "outputs": [
    {
     "name": "stderr",
     "output_type": "stream",
     "text": [
      "[nltk_data] Downloading package punkt to\n",
      "[nltk_data]     C:\\Users\\dchur\\AppData\\Roaming\\nltk_data...\n",
      "[nltk_data]   Package punkt is already up-to-date!\n",
      "[nltk_data] Downloading package stopwords to\n",
      "[nltk_data]     C:\\Users\\dchur\\AppData\\Roaming\\nltk_data...\n",
      "[nltk_data]   Package stopwords is already up-to-date!\n"
     ]
    },
    {
     "data": {
      "text/plain": [
       "True"
      ]
     },
     "execution_count": 37,
     "metadata": {},
     "output_type": "execute_result"
    }
   ],
   "source": [
    "import pandas as pd\n",
    "import numpy as np\n",
    "import seaborn as sns\n",
    "import mysql.connector\n",
    "import matplotlib.pyplot as plt\n",
    "from sklearn.model_selection import train_test_split\n",
    "from sklearn.metrics import accuracy_score\n",
    "from sklearn.metrics import classification_report\n",
    "from sklearn.linear_model import LogisticRegression\n",
    "from sklearn.feature_extraction.text import TfidfVectorizer\n",
    "from sklearn.metrics import confusion_matrix\n",
    "from joblib import dump, load\n",
    "import re\n",
    "import nltk\n",
    "from nltk.corpus import stopwords\n",
    "nltk.download('punkt')\n",
    "nltk.download('stopwords')"
   ]
  },
  {
   "cell_type": "code",
   "execution_count": 2,
   "id": "577dd0d9-888c-42a6-b255-0a94b9c694b9",
   "metadata": {},
   "outputs": [],
   "source": [
    "tfidfvec = TfidfVectorizer()\n",
    "LR = LogisticRegression()\n",
    "trained = False"
   ]
  },
  {
   "cell_type": "code",
   "execution_count": 22,
   "id": "cd0902bc-b3c2-40ac-80f8-7b3a9a44ef0b",
   "metadata": {},
   "outputs": [],
   "source": [
    "#Input is not-cleaned documents that are labeled 0 for fake and 1 for real\n",
    "#must be dataframe with columns 'text' and 'label'\n",
    "#This function cleans the text and tests the model\n",
    "def test_pipeline(data):\n",
    "    #ensure the model is trained first before using\n",
    "    global tfidfvec\n",
    "    global LR\n",
    "    global trained\n",
    "    if not trained:\n",
    "        raise Exception(\"Model not trained! Train or load model\")\n",
    "    #clean the text\n",
    "    data['text'] = data['text'].apply(clean_text)\n",
    "    #vectorize it\n",
    "    xv = tfidfvec.transform(data['text'])\n",
    "    #test the vector data against the label\n",
    "    y_pred = LR.predict(xv)\n",
    "    conf = confusion_matrix(y_pred, data['label'])\n",
    "    score = LR.score(xv, data['label'])\n",
    "    return y_pred, conf, score"
   ]
  },
  {
   "cell_type": "code",
   "execution_count": 4,
   "id": "b7ab5e58-c8e0-4cac-86ad-da0df4c00aba",
   "metadata": {},
   "outputs": [],
   "source": [
    "#Input is not-cleaned documents that are labeled 0 for fake and 1 for real\n",
    "#must be dataframe with columns 'text' and 'label'\n",
    "#This function cleans the text and trains the model\n",
    "def train_pipeline(data):\n",
    "    #if already trained once before, reset the model\n",
    "    global tfidfvec\n",
    "    global LR\n",
    "    global trained\n",
    "    if trained:\n",
    "        tfidfvec = TfidfVectorizer()\n",
    "        LR = LogisticRegression()\n",
    "    #clean the text\n",
    "    data['text'] = data['text'].apply(clean_text)\n",
    "    #vectorize it\n",
    "    xv = tfidfvec.fit_transform(data['text'])\n",
    "    #fit the vector data to the label\n",
    "    LR.fit(xv, data['label'])\n",
    "    trained = True\n",
    "    dump(LR, 'lrmodel.joblib')\n",
    "    dump(tfidfvec, 'vectorizer.joblib')\n"
   ]
  },
  {
   "cell_type": "code",
   "execution_count": 34,
   "id": "c1f28c02-d56f-4e07-a801-be0e3f58c877",
   "metadata": {},
   "outputs": [],
   "source": [
    "#read model in from file so you don't have to train it every time\n",
    "def load_model():\n",
    "    global tfidfvec\n",
    "    global LR\n",
    "    global trained\n",
    "    LR = load('lrmodel.joblib')\n",
    "    tfidfvec = load('vectorizer.joblib')\n",
    "    trained = True"
   ]
  },
  {
   "cell_type": "code",
   "execution_count": 6,
   "id": "9f539d46-ca97-424c-a8bf-cdde4e4f7ac2",
   "metadata": {},
   "outputs": [],
   "source": [
    "#Function to get a query from our specific database and return it as a dataframe\n",
    "def get_sql_data(query):\n",
    "    # MySQL info\n",
    "    config = {\n",
    "        'user': 'project',\n",
    "        'password': 'COMP541',\n",
    "        'host': '150.230.44.118',\n",
    "        'database': 'project'\n",
    "    }\n",
    "    #connect\n",
    "    conn = mysql.connector.connect(**config)\n",
    "    #read into dataframe\n",
    "    data = pd.read_sql(query, conn)\n",
    "    #close connection\n",
    "    conn.close()\n",
    "    return data"
   ]
  },
  {
   "cell_type": "code",
   "execution_count": 35,
   "id": "ba9d719c-1521-4614-88b6-514cfa4d81db",
   "metadata": {},
   "outputs": [],
   "source": [
    "#clean text works on one document at a time so needs to be applied with .apply()\n",
    "def clean_text(text):\n",
    "    # Tokenization\n",
    "    tokens = nltk.word_tokenize(text)\n",
    "    # Remove special characters and convert to lowercase\n",
    "    clean_tokens = [re.sub(r'[^a-zA-Z\\s]', '', token).lower() for token in tokens]\n",
    "    # Remove stop words\n",
    "    stop_words = set(stopwords.words('english'))\n",
    "    stop_words.add('said')\n",
    "    stop_words.add('reuters')\n",
    "    clean_tokens = [token for token in clean_tokens if token not in stop_words]\n",
    "    # Join tokens back into a single string\n",
    "    clean_text = ' '.join(clean_tokens)\n",
    "    return clean_text\n"
   ]
  },
  {
   "cell_type": "code",
   "execution_count": 8,
   "id": "a7448219-a32f-499a-b149-53bc43785a78",
   "metadata": {},
   "outputs": [
    {
     "name": "stderr",
     "output_type": "stream",
     "text": [
      "C:\\Users\\dchur\\AppData\\Local\\Temp\\ipykernel_11536\\1325120582.py:13: UserWarning: pandas only supports SQLAlchemy connectable (engine/connection) or database string URI or sqlite3 DBAPI2 connection. Other DBAPI2 objects are not tested. Please consider using SQLAlchemy.\n",
      "  data = pd.read_sql(query, conn)\n",
      "C:\\Users\\dchur\\AppData\\Local\\Temp\\ipykernel_11536\\1325120582.py:13: UserWarning: pandas only supports SQLAlchemy connectable (engine/connection) or database string URI or sqlite3 DBAPI2 connection. Other DBAPI2 objects are not tested. Please consider using SQLAlchemy.\n",
      "  data = pd.read_sql(query, conn)\n"
     ]
    }
   ],
   "source": [
    "#import training data\n",
    "query = \"SELECT `text`,`label` FROM `Tutorial`\"\n",
    "data = get_sql_data(query)\n",
    "query = \"SELECT `text` FROM `Articles` WHERE `source` LIKE '%New York Times%'\"\n",
    "nyt_data = get_sql_data(query)\n",
    "#the nyt is highly trusted, it's label is always real\n",
    "nyt_data['label'] = 1\n",
    "\n",
    "\n",
    "#import testing data\n",
    "query = \"SELECT `text`,`label` FROM `Kaggle`\"\n",
    "kaggle = get_sql_data(query)\n",
    "#sample for testing\n",
    "#data = data.sample(1000)\n",
    "# Invert the label column for Kaggle set\n",
    "kaggle['label'] = kaggle['label'].map({0: 1, 1: 0})\n",
    "\n",
    "\n",
    "#concat the nyt articles\n",
    "data = pd.concat([data, nyt_data, kaggle], ignore_index=True)\n",
    "#sample for testing\n",
    "#data = data.sample(1000)\n",
    "\n",
    "#split into test and train\n",
    "data_train, data_test = train_test_split(data, test_size = 0.2)"
   ]
  },
  {
   "cell_type": "code",
   "execution_count": 9,
   "id": "288d4d02-b85f-4ffa-8439-a8d8b1a4cd42",
   "metadata": {},
   "outputs": [
    {
     "data": {
      "text/plain": [
       "(117429, 2)"
      ]
     },
     "execution_count": 9,
     "metadata": {},
     "output_type": "execute_result"
    }
   ],
   "source": [
    "data.shape"
   ]
  },
  {
   "cell_type": "code",
   "execution_count": 10,
   "id": "6217377e-7eec-41ea-b80e-3a53fef0dd2b",
   "metadata": {},
   "outputs": [],
   "source": [
    "train_pipeline(data_train)"
   ]
  },
  {
   "cell_type": "code",
   "execution_count": 32,
   "id": "15f96e50-cf87-4655-b385-03b2d3f57977",
   "metadata": {},
   "outputs": [],
   "source": [
    "y_pred, cm, score = test_pipeline(data_test)"
   ]
  },
  {
   "cell_type": "code",
   "execution_count": 33,
   "id": "50827ada-ec3b-400c-8f10-4bb7fcc0c1e5",
   "metadata": {},
   "outputs": [
    {
     "data": {
      "image/png": "[encoded data removed]",
      "text/plain": [
       "<Figure size 640x480 with 1 Axes>"
      ]
     },
     "metadata": {},
     "output_type": "display_data"
    },
    {
     "name": "stdout",
     "output_type": "stream",
     "text": [
      "0.9581878565954185\n"
     ]
    },
    {
     "data": {
      "text/plain": [
       "array([[11665,   582],\n",
       "       [  400, 10839]], dtype=int64)"
      ]
     },
     "execution_count": 33,
     "metadata": {},
     "output_type": "execute_result"
    }
   ],
   "source": [
    "sns.heatmap(cm, annot=True, fmt='d', cmap='Blues', cbar=False)\n",
    "plt.title('Confusion matrix')\n",
    "plt.xlabel('Predicted label')\n",
    "plt.ylabel('True label')\n",
    "plt.show()\n",
    "print(score)\n",
    "cm"
   ]
  },
  {
   "cell_type": "code",
   "execution_count": 25,
   "id": "0c0f7183-482b-47ab-a35b-47a1a9d44a69",
   "metadata": {},
   "outputs": [],
   "source": [
    "#Determine if the text body is fake news or not. Must be trained first\n",
    "#False = Fake News, True = Real News\n",
    "#In the scheme of the data\n",
    "def fake_news_detector(text):\n",
    "    global tfidfvec\n",
    "    global LR\n",
    "    global trained\n",
    "    if not trained:\n",
    "        raise Exception(\"Model not trained! Train or load model\")\n",
    "\n",
    "    #clean the text just one this time so no .apply()\n",
    "    text = clean_text(text)\n",
    "    #put the text into a 1x1 dataframe for the model\n",
    "    data = {\n",
    "        'text': [text,]\n",
    "    }\n",
    "    #vectorize it\n",
    "    xv = tfidfvec.transform(data['text'])\n",
    "    #test the vector data against the label\n",
    "    y_pred = LR.predict_proba(xv)\n",
    "    print(y_pred)\n",
    "    return bool(y_pred[0][0] < y_pred[0][1])"
   ]
  },
  {
   "cell_type": "code",
   "execution_count": 26,
   "id": "0e173800-e7e2-4ebc-bca6-88ac623e4e2d",
   "metadata": {},
   "outputs": [
    {
     "name": "stdout",
     "output_type": "stream",
     "text": [
      "[[0.91268579 0.08731421]]\n"
     ]
    },
    {
     "data": {
      "text/plain": [
       "False"
      ]
     },
     "execution_count": 26,
     "metadata": {},
     "output_type": "execute_result"
    }
   ],
   "source": [
    "fake_news_story = \"\"\"\n",
    "Title: Scientists Discover Hidden Civilization on Mars\n",
    "Article:\n",
    "In a groundbreaking discovery that could reshape our understanding of the universe, scientists have reportedly found evidence of a hidden civilization on the surface of Mars. According to sources within NASA, recent satellite imagery has revealed sprawling structures resembling ancient cities, complete with roads, buildings, and even what appears to be a central hub.\n",
    "Dr. Jane Smith, lead researcher on the project, described the findings as \"nothing short of extraordinary.\" She believes that the structures are likely the remnants of an advanced civilization that thrived on Mars millions of years ago.\n",
    "The discovery has sparked widespread excitement among astronomers and space enthusiasts, with many speculating about the possible implications for humanity. Some have even suggested that the existence of a past Martian civilization could support theories of ancient alien visitation.\n",
    "However, skeptics have raised doubts about the validity of the findings, pointing to the lack of concrete evidence and the possibility of natural geological formations being mistaken for artificial structures. Critics argue that until further research is conducted, it's premature to jump to conclusions about the existence of a Martian civilization.\n",
    "Despite the skepticism, Dr. Smith and her team remain confident in their discovery and are eager to continue exploring the mysteries of our neighboring planet.\n",
    "\"\"\"\n",
    "\n",
    "fake_news_detector(fake_news_story)"
   ]
  },
  {
   "cell_type": "code",
   "execution_count": 27,
   "id": "0d6f4e69-835e-4a1e-9e2c-efbeb01451ae",
   "metadata": {},
   "outputs": [
    {
     "name": "stdout",
     "output_type": "stream",
     "text": [
      "[[0.47019161 0.52980839]]\n"
     ]
    },
    {
     "data": {
      "text/plain": [
       "True"
      ]
     },
     "execution_count": 27,
     "metadata": {},
     "output_type": "execute_result"
    }
   ],
   "source": [
    "real_news_story = \"\"\"\n",
    "Title: SpaceX Successfully Launches Crewed Mission to International Space Station\n",
    "Article:\n",
    "In a historic achievement for space exploration, SpaceX, the private aerospace company founded by Elon Musk, successfully launched its Crew Dragon spacecraft carrying four astronauts to the International Space Station (ISS). The mission, named Crew-1, marks the first operational flight of SpaceX's Crew Dragon spacecraft as part of NASA's Commercial Crew Program.\n",
    "The Crew-1 mission launched atop a Falcon 9 rocket from Kennedy Space Center's Launch Complex 39A in Florida. The spacecraft, named Resilience, is carrying astronauts Michael Hopkins, Victor Glover, Shannon Walker, and Soichi Noguchi – representing NASA and the Japan Aerospace Exploration Agency (JAXA).\n",
    "Following a smooth ascent into orbit, the Crew Dragon spacecraft is scheduled to dock autonomously with the ISS approximately 27 hours after liftoff. The astronauts will spend approximately six months aboard the space station, conducting scientific research, performing maintenance tasks, and participating in spacewalks.\n",
    "The success of the Crew-1 mission underscores the growing partnership between NASA and commercial spaceflight companies like SpaceX in advancing human space exploration. It also represents a significant milestone in NASA's efforts to resume crewed launches from American soil since the retirement of the Space Shuttle program in 2011.\n",
    "SpaceX's ability to safely transport astronauts to and from the ISS is a crucial step towards realizing NASA's goal of sustainable human spaceflight beyond low Earth orbit, including missions to the Moon and Mars.\n",
    "The successful launch of Crew-1 demonstrates the continued progress and capabilities of private-sector space companies in the pursuit of ambitious space exploration goals, ultimately benefiting scientific discovery and humanity's understanding of the cosmos.\n",
    "\"\"\"\n",
    "fake_news_detector(real_news_story)"
   ]
  },
  {
   "cell_type": "code",
   "execution_count": 28,
   "id": "c34e586a-27d4-4330-94db-2d2737823eac",
   "metadata": {},
   "outputs": [
    {
     "name": "stdout",
     "output_type": "stream",
     "text": [
      "[[0.34433164 0.65566836]]\n"
     ]
    },
    {
     "data": {
      "text/plain": [
       "True"
      ]
     },
     "execution_count": 28,
     "metadata": {},
     "output_type": "execute_result"
    }
   ],
   "source": [
    "political_news_article = \"\"\"\n",
    "Title: U.S. Congress Passes Bipartisan Infrastructure Investment and Jobs Act\n",
    "Article:\n",
    "In a rare display of bipartisan cooperation, the United States Congress has passed the Infrastructure Investment and Jobs Act, a landmark piece of legislation aimed at modernizing the nation's infrastructure and creating new employment opportunities. The bill, which received strong support from both Democrats and Republicans, represents a significant step forward in addressing the country's infrastructure needs.\n",
    "The Infrastructure Investment and Jobs Act allocates approximately $1.2 trillion over the next decade to fund a wide range of infrastructure projects, including transportation, broadband internet, water systems, and renewable energy. The legislation also includes provisions to improve resilience to climate change, enhance cybersecurity, and promote equity and inclusion in infrastructure investments.\n",
    "Key components of the bill include:\n",
    "- $110 billion for roads, bridges, and major projects\n",
    "- $66 billion for passenger and freight rail, including Amtrak\n",
    "- $65 billion for broadband internet access expansion\n",
    "- $55 billion for clean water and wastewater infrastructure\n",
    "- $39 billion for public transit, including upgrades and modernization\n",
    "- $7.5 billion for electric vehicle infrastructure\n",
    "- $3.5 billion for climate resilience and adaptation measures\n",
    "The Infrastructure Investment and Jobs Act garnered broad support from lawmakers across the political spectrum, with both Democrats and Republicans emphasizing the importance of investing in America's infrastructure to create jobs, stimulate economic growth, and improve the quality of life for all citizens. President [Insert Name] is expected to sign the bill into law, signaling a significant achievement for his administration and for bipartisan cooperation in Congress.\n",
    "While the passage of the Infrastructure Investment and Jobs Act represents a major legislative victory, some critics have raised concerns about the bill's funding mechanisms and potential impact on the national debt. However, supporters argue that the long-term benefits of investing in infrastructure far outweigh the short-term costs, and that the bill's provisions are essential for addressing critical infrastructure challenges facing the nation.\n",
    "The bipartisan passage of the Infrastructure Investment and Jobs Act underscores the importance of collaboration and compromise in addressing complex issues and advancing the national interest. Moving forward, the implementation of the legislation will be critical in delivering tangible benefits to communities across the country and ensuring a more resilient and prosperous future for all Americans.\n",
    "\"\"\"\n",
    "fake_news_detector(political_news_article)"
   ]
  },
  {
   "cell_type": "code",
   "execution_count": 29,
   "id": "81f84b31-4bc3-4c24-ade1-a900c5a2020b",
   "metadata": {},
   "outputs": [
    {
     "name": "stdout",
     "output_type": "stream",
     "text": [
      "[[0.8136811 0.1863189]]\n"
     ]
    },
    {
     "data": {
      "text/plain": [
       "False"
      ]
     },
     "execution_count": 29,
     "metadata": {},
     "output_type": "execute_result"
    }
   ],
   "source": [
    "fake_political_news_article = \"\"\"\n",
    "Title: Shocking Revelation: Government Insider Exposes Corruption Scandal at Highest Levels\n",
    "Article:\n",
    "In a bombshell revelation that has sent shockwaves through the nation's capital, a high-ranking government insider has come forward to expose a widespread corruption scandal at the highest levels of power. According to the whistleblower, who spoke on condition of anonymity, top officials within the administration have been involved in a complex web of bribery, kickbacks, and backroom deals aimed at enriching themselves at the expense of the American people.\n",
    "The whistleblower alleges that the corruption extends to multiple government agencies and spans across various policy areas, including healthcare, environmental regulation, and national security. Shockingly, the whistleblower claims that efforts to investigate and prosecute the corruption have been thwarted by powerful political forces seeking to protect their own interests and maintain their grip on power.\n",
    "The scandal has sparked outrage among lawmakers and citizens alike, with calls for a full-scale investigation and accountability for those implicated in the wrongdoing. Critics of the administration have seized on the revelations as evidence of systemic corruption and incompetence, calling for sweeping reforms to restore integrity and transparency to government.\n",
    "However, supporters of the administration have dismissed the allegations as politically motivated attacks aimed at undermining the president and his agenda. They argue that the whistleblower is part of a deep state conspiracy seeking to sabotage the administration's efforts to enact positive change and deliver on its promises to the American people.\n",
    "Despite the denials and deflections from the administration, the whistleblower's claims have reignited concerns about ethics and accountability in government. As calls for accountability grow louder, the nation braces for a potentially explosive showdown between those seeking truth and justice and those seeking to protect their own power and privilege.\n",
    "Stay tuned for further developments as this shocking scandal continues to unfold, shaking the foundations of the nation's capital and testing the resilience of American democracy.\n",
    "\"\"\"\n",
    "fake_news_detector(fake_political_news_article)"
   ]
  },
  {
   "cell_type": "code",
   "execution_count": 30,
   "id": "2209d605-7443-4098-ba4d-d93ca4a6a664",
   "metadata": {},
   "outputs": [
    {
     "name": "stdout",
     "output_type": "stream",
     "text": [
      "[[0.60779578 0.39220422]]\n"
     ]
    },
    {
     "data": {
      "text/plain": [
       "False"
      ]
     },
     "execution_count": 30,
     "metadata": {},
     "output_type": "execute_result"
    }
   ],
   "source": [
    "onion = \"NEW YORK—Emphasizing that it was their only option amid the rampant protests that had erupted on campus, Columbia University announced Monday that it had given students the option to finish classes from prison. “Given the current political turmoil and the many safety hazards it poses, all current students will be permitted to complete their semesters from the New York penitentiary system,” said Columbia University President Minouche Shafik, adding that in light of recent events, all members of the community were encouraged to attend lectures virtually from the comfort of their dark, windowless, 6-by-8-foot cell. “While we wish we could continue in-person learning, the best way to keep our university safe is to allow students, faculty, and staff to complete the last few weeks of the school from behind bars. Also, should students need, they will be permitted to accept their diplomas virtually, regardless of whether they are in the back of a police van, at Rikers Island, or in solitary confinement somewhere off the grid.” At press time, Shafik added that any student who had been beaten to death could, if need be, also complete classes from their morgue.\"\n",
    "fake_news_detector(onion)"
   ]
  },
  {
   "cell_type": "code",
   "execution_count": 40,
   "id": "a1dc03a6-8d30-4cff-b0c3-8332d786dfbc",
   "metadata": {},
   "outputs": [
    {
     "name": "stdout",
     "output_type": "stream",
     "text": [
      "[[0.82361373 0.17638627]]\n"
     ]
    },
    {
     "data": {
      "text/plain": [
       "False"
      ]
     },
     "execution_count": 40,
     "metadata": {},
     "output_type": "execute_result"
    }
   ],
   "source": [
    "#open an article in a text file and classify it\n",
    "def read_file_as_string(file_path, encoding='utf-8'):\n",
    "    with open(file_path, 'r', encoding=encoding) as file:\n",
    "        file_contents = file.read()\n",
    "    return file_contents.encode('utf-8')\n",
    "\n",
    "file_path = 'Article.txt'\n",
    "file_contents = read_file_as_string(file_path)\n",
    "fake_news_detector(file_contents.decode('utf-8'))"
   ]
  }
 ],
 "metadata": {
  "kernelspec": {
   "display_name": "Python 3 (ipykernel)",
   "language": "python",
   "name": "python3"
  },
  "language_info": {
   "codemirror_mode": {
    "name": "ipython",
    "version": 3
   },
   "file_extension": ".py",
   "mimetype": "text/x-python",
   "name": "python",
   "nbconvert_exporter": "python",
   "pygments_lexer": "ipython3",
   "version": "3.11.7"
  }
 },
 "nbformat": 4,
 "nbformat_minor": 5
}
