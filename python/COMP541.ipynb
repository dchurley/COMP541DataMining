{
 "cells": [
  {
   "cell_type": "code",
   "execution_count": 1,
   "id": "4d1d5317-7339-4aed-b978-164907cce217",
   "metadata": {},
   "outputs": [],
   "source": [
    "import pandas as pd\n",
    "import numpy as np\n",
    "import seaborn as sns\n",
    "import mysql.connector\n",
    "import matplotlib.pyplot as plt\n",
    "from sklearn.model_selection import train_test_split\n",
    "from sklearn.metrics import accuracy_score\n",
    "from sklearn.metrics import classification_report\n",
    "from sklearn.linear_model import LogisticRegression\n",
    "from sklearn.feature_extraction.text import TfidfVectorizer\n",
    "import re\n",
    "import nltk\n",
    "from nltk.corpus import stopwords"
   ]
  },
  {
   "cell_type": "code",
   "execution_count": 2,
   "id": "577dd0d9-888c-42a6-b255-0a94b9c694b9",
   "metadata": {},
   "outputs": [],
   "source": [
    "tfidfvec = TfidfVectorizer()\n",
    "LR = LogisticRegression()\n",
    "trained = False"
   ]
  },
  {
   "cell_type": "code",
   "execution_count": 3,
   "id": "cd0902bc-b3c2-40ac-80f8-7b3a9a44ef0b",
   "metadata": {},
   "outputs": [],
   "source": [
    "#Input is not-cleaned documents that are labeled 0 for fake and 1 for real\n",
    "#must be dataframe with columns 'text' and 'label'\n",
    "#This function cleans the text and tests the model\n",
    "def test_pipeline(data):\n",
    "    #ensure the model is trained first before using\n",
    "    global tfidfvec\n",
    "    global LR\n",
    "    global trained\n",
    "    if not trained:\n",
    "        return 0\n",
    "    #clean the text\n",
    "    data['text'] = data['text'].apply(clean_text)\n",
    "    #vectorize it\n",
    "    xv = tfidfvec.transform(data['text'])\n",
    "    #test the vector data against the label\n",
    "    score = LR.score(xv, data['label'])\n",
    "    return score"
   ]
  },
  {
   "cell_type": "code",
   "execution_count": 5,
   "id": "b7ab5e58-c8e0-4cac-86ad-da0df4c00aba",
   "metadata": {},
   "outputs": [],
   "source": [
    "#Input is not-cleaned documents that are labeled 0 for fake and 1 for real\n",
    "#must be dataframe with columns 'text' and 'label'\n",
    "#This function cleans the text and trains the model\n",
    "def train_pipeline(data):\n",
    "    #if already trained once before, reset the model\n",
    "    global tfidfvec\n",
    "    global LR\n",
    "    global trained\n",
    "    if trained:\n",
    "        tfidfvec = TfidfVectorizer()\n",
    "        LR = LogisticRegression()\n",
    "    #clean the text\n",
    "    data['text'] = data['text'].apply(clean_text)\n",
    "    #vectorize it\n",
    "    xv = tfidfvec.fit_transform(data['text'])\n",
    "    #fit the vector data to the label\n",
    "    LR.fit(xv, data['label'])\n",
    "    trained = True\n"
   ]
  },
  {
   "cell_type": "code",
   "execution_count": 6,
   "id": "9f539d46-ca97-424c-a8bf-cdde4e4f7ac2",
   "metadata": {},
   "outputs": [],
   "source": [
    "#Function to get a query from our specific database and return it as a dataframe\n",
    "def get_sql_data(query):\n",
    "    # MySQL info\n",
    "    config = {\n",
    "        'user': 'project',\n",
    "        'password': 'COMP541',\n",
    "        'host': '150.230.44.118',\n",
    "        'database': 'project'\n",
    "    }\n",
    "    #connect\n",
    "    conn = mysql.connector.connect(**config)\n",
    "    #read into dataframe\n",
    "    data = pd.read_sql(query, conn)\n",
    "    #close connection\n",
    "    conn.close()\n",
    "    return data"
   ]
  },
  {
   "cell_type": "code",
   "execution_count": 24,
   "id": "ba9d719c-1521-4614-88b6-514cfa4d81db",
   "metadata": {},
   "outputs": [
    {
     "name": "stderr",
     "output_type": "stream",
     "text": [
      "[nltk_data] Downloading package punkt to\n",
      "[nltk_data]     C:\\Users\\dchur\\AppData\\Roaming\\nltk_data...\n",
      "[nltk_data]   Package punkt is already up-to-date!\n",
      "[nltk_data] Downloading package stopwords to\n",
      "[nltk_data]     C:\\Users\\dchur\\AppData\\Roaming\\nltk_data...\n",
      "[nltk_data]   Package stopwords is already up-to-date!\n"
     ]
    }
   ],
   "source": [
    "nltk.download('punkt')\n",
    "nltk.download('stopwords')\n",
    "#clean text works on one document at a time so needs to be applied with .apply()\n",
    "def clean_text(text):\n",
    "    # Tokenization\n",
    "    tokens = nltk.word_tokenize(text)\n",
    "    # Remove special characters and convert to lowercase\n",
    "    clean_tokens = [re.sub(r'[^a-zA-Z\\s]', '', token).lower() for token in tokens]\n",
    "    # Remove stop words\n",
    "    stop_words = set(stopwords.words('english'))\n",
    "    stop_words.add('said')\n",
    "    stop_words.add('reuters')\n",
    "    clean_tokens = [token for token in clean_tokens if token not in stop_words]\n",
    "    # Join tokens back into a single string\n",
    "    clean_text = ' '.join(clean_tokens)\n",
    "    return clean_text\n"
   ]
  },
  {
   "cell_type": "code",
   "execution_count": 8,
   "id": "a7448219-a32f-499a-b149-53bc43785a78",
   "metadata": {},
   "outputs": [
    {
     "name": "stderr",
     "output_type": "stream",
     "text": [
      "C:\\Users\\dchur\\AppData\\Local\\Temp\\ipykernel_11068\\1325120582.py:13: UserWarning: pandas only supports SQLAlchemy connectable (engine/connection) or database string URI or sqlite3 DBAPI2 connection. Other DBAPI2 objects are not tested. Please consider using SQLAlchemy.\n",
      "  data = pd.read_sql(query, conn)\n",
      "C:\\Users\\dchur\\AppData\\Local\\Temp\\ipykernel_11068\\1325120582.py:13: UserWarning: pandas only supports SQLAlchemy connectable (engine/connection) or database string URI or sqlite3 DBAPI2 connection. Other DBAPI2 objects are not tested. Please consider using SQLAlchemy.\n",
      "  data = pd.read_sql(query, conn)\n"
     ]
    }
   ],
   "source": [
    "#import training data\n",
    "query = \"SELECT `text`,`label` FROM `Tutorial`\"\n",
    "data = get_sql_data(query)\n",
    "query = \"SELECT `text` FROM `Articles` WHERE `source` LIKE '%New York Times%'\"\n",
    "nyt_data = get_sql_data(query)\n",
    "#the nyt is highly trusted, it's label is always real\n",
    "nyt_data['label'] = 1\n",
    "\n",
    "\n",
    "#import testing data\n",
    "query = \"SELECT `text`,`label` FROM `Kaggle`\"\n",
    "kaggle = get_sql_data(query)\n",
    "#sample for testing\n",
    "#data = data.sample(1000)\n",
    "# Invert the label column for Kaggle set\n",
    "kaggle['label'] = kaggle['label'].map({0: 1, 1: 0})\n",
    "\n",
    "\n",
    "#concat the nyt articles\n",
    "data = pd.concat([data, nyt_data, kaggle], ignore_index=True)\n",
    "#sample for testing\n",
    "#data = data.sample(1000)\n",
    "\n",
    "#split into test and train\n",
    "data_train, data_test = train_test_split(data, test_size = 0.2)"
   ]
  },
  {
   "cell_type": "code",
   "execution_count": 9,
   "id": "6217377e-7eec-41ea-b80e-3a53fef0dd2b",
   "metadata": {},
   "outputs": [],
   "source": [
    "train_pipeline(data_train)"
   ]
  },
  {
   "cell_type": "code",
   "execution_count": 10,
   "id": "15f96e50-cf87-4655-b385-03b2d3f57977",
   "metadata": {},
   "outputs": [
    {
     "data": {
      "text/plain": [
       "0.9570808141020182"
      ]
     },
     "execution_count": 10,
     "metadata": {},
     "output_type": "execute_result"
    }
   ],
   "source": [
    "test_pipeline(data_test)"
   ]
  },
  {
   "cell_type": "code",
   "execution_count": 45,
   "id": "0c0f7183-482b-47ab-a35b-47a1a9d44a69",
   "metadata": {},
   "outputs": [],
   "source": [
    "#Determine if the text body is fake news or not. Must be trained first\n",
    "#False = Fake News, True = Real News\n",
    "#In the scheme of the data\n",
    "def fake_news_detector(text):\n",
    "    global tfidfvec\n",
    "    global LR\n",
    "    global trained\n",
    "    if not trained:\n",
    "        return False\n",
    "\n",
    "    #clean the text just one this time so no .apply()\n",
    "    text = clean_text(text)\n",
    "    #put the text into a 1x1 dataframe for the model\n",
    "    data = {\n",
    "        'text': [text,]\n",
    "    }\n",
    "    #vectorize it\n",
    "    xv = tfidfvec.transform(data['text'])\n",
    "    #test the vector data against the label\n",
    "    y_pred = LR.predict_proba(xv)\n",
    "    print(y_pred)\n",
    "    return bool(y_pred[0][0] < y_pred[0][1])"
   ]
  },
  {
   "cell_type": "code",
   "execution_count": 46,
   "id": "0e173800-e7e2-4ebc-bca6-88ac623e4e2d",
   "metadata": {},
   "outputs": [
    {
     "name": "stdout",
     "output_type": "stream",
     "text": [
      "[[0.90909625 0.09090375]]\n"
     ]
    },
    {
     "data": {
      "text/plain": [
       "False"
      ]
     },
     "execution_count": 46,
     "metadata": {},
     "output_type": "execute_result"
    }
   ],
   "source": [
    "fake_news_story = \"\"\"\n",
    "Title: Scientists Discover Hidden Civilization on Mars\n",
    "\n",
    "Article:\n",
    "\n",
    "In a groundbreaking discovery that could reshape our understanding of the universe, scientists have reportedly found evidence of a hidden civilization on the surface of Mars. According to sources within NASA, recent satellite imagery has revealed sprawling structures resembling ancient cities, complete with roads, buildings, and even what appears to be a central hub.\n",
    "\n",
    "Dr. Jane Smith, lead researcher on the project, described the findings as \"nothing short of extraordinary.\" She believes that the structures are likely the remnants of an advanced civilization that thrived on Mars millions of years ago.\n",
    "\n",
    "The discovery has sparked widespread excitement among astronomers and space enthusiasts, with many speculating about the possible implications for humanity. Some have even suggested that the existence of a past Martian civilization could support theories of ancient alien visitation.\n",
    "\n",
    "However, skeptics have raised doubts about the validity of the findings, pointing to the lack of concrete evidence and the possibility of natural geological formations being mistaken for artificial structures. Critics argue that until further research is conducted, it's premature to jump to conclusions about the existence of a Martian civilization.\n",
    "\n",
    "Despite the skepticism, Dr. Smith and her team remain confident in their discovery and are eager to continue exploring the mysteries of our neighboring planet.\n",
    "\"\"\"\n",
    "\n",
    "fake_news_detector(fake_news_story)"
   ]
  },
  {
   "cell_type": "code",
   "execution_count": 47,
   "id": "0d6f4e69-835e-4a1e-9e2c-efbeb01451ae",
   "metadata": {},
   "outputs": [
    {
     "name": "stdout",
     "output_type": "stream",
     "text": [
      "[[0.47350123 0.52649877]]\n"
     ]
    },
    {
     "data": {
      "text/plain": [
       "True"
      ]
     },
     "execution_count": 47,
     "metadata": {},
     "output_type": "execute_result"
    }
   ],
   "source": [
    "real_news_story = \"\"\"\n",
    "Title: SpaceX Successfully Launches Crewed Mission to International Space Station\n",
    "\n",
    "Article:\n",
    "\n",
    "In a historic achievement for space exploration, SpaceX, the private aerospace company founded by Elon Musk, successfully launched its Crew Dragon spacecraft carrying four astronauts to the International Space Station (ISS). The mission, named Crew-1, marks the first operational flight of SpaceX's Crew Dragon spacecraft as part of NASA's Commercial Crew Program.\n",
    "\n",
    "The Crew-1 mission launched atop a Falcon 9 rocket from Kennedy Space Center's Launch Complex 39A in Florida. The spacecraft, named Resilience, is carrying astronauts Michael Hopkins, Victor Glover, Shannon Walker, and Soichi Noguchi – representing NASA and the Japan Aerospace Exploration Agency (JAXA).\n",
    "\n",
    "Following a smooth ascent into orbit, the Crew Dragon spacecraft is scheduled to dock autonomously with the ISS approximately 27 hours after liftoff. The astronauts will spend approximately six months aboard the space station, conducting scientific research, performing maintenance tasks, and participating in spacewalks.\n",
    "\n",
    "The success of the Crew-1 mission underscores the growing partnership between NASA and commercial spaceflight companies like SpaceX in advancing human space exploration. It also represents a significant milestone in NASA's efforts to resume crewed launches from American soil since the retirement of the Space Shuttle program in 2011.\n",
    "\n",
    "SpaceX's ability to safely transport astronauts to and from the ISS is a crucial step towards realizing NASA's goal of sustainable human spaceflight beyond low Earth orbit, including missions to the Moon and Mars.\n",
    "\n",
    "The successful launch of Crew-1 demonstrates the continued progress and capabilities of private-sector space companies in the pursuit of ambitious space exploration goals, ultimately benefiting scientific discovery and humanity's understanding of the cosmos.\n",
    "\"\"\"\n",
    "fake_news_detector(real_news_story)"
   ]
  },
  {
   "cell_type": "code",
   "execution_count": 48,
   "id": "c34e586a-27d4-4330-94db-2d2737823eac",
   "metadata": {},
   "outputs": [
    {
     "name": "stdout",
     "output_type": "stream",
     "text": [
      "[[0.30070864 0.69929136]]\n"
     ]
    },
    {
     "data": {
      "text/plain": [
       "True"
      ]
     },
     "execution_count": 48,
     "metadata": {},
     "output_type": "execute_result"
    }
   ],
   "source": [
    "political_news_article = \"\"\"\n",
    "Title: U.S. Congress Passes Bipartisan Infrastructure Investment and Jobs Act\n",
    "\n",
    "Article:\n",
    "\n",
    "In a rare display of bipartisan cooperation, the United States Congress has passed the Infrastructure Investment and Jobs Act, a landmark piece of legislation aimed at modernizing the nation's infrastructure and creating new employment opportunities. The bill, which received strong support from both Democrats and Republicans, represents a significant step forward in addressing the country's infrastructure needs.\n",
    "\n",
    "The Infrastructure Investment and Jobs Act allocates approximately $1.2 trillion over the next decade to fund a wide range of infrastructure projects, including transportation, broadband internet, water systems, and renewable energy. The legislation also includes provisions to improve resilience to climate change, enhance cybersecurity, and promote equity and inclusion in infrastructure investments.\n",
    "\n",
    "Key components of the bill include:\n",
    "\n",
    "- $110 billion for roads, bridges, and major projects\n",
    "- $66 billion for passenger and freight rail, including Amtrak\n",
    "- $65 billion for broadband internet access expansion\n",
    "- $55 billion for clean water and wastewater infrastructure\n",
    "- $39 billion for public transit, including upgrades and modernization\n",
    "- $7.5 billion for electric vehicle infrastructure\n",
    "- $3.5 billion for climate resilience and adaptation measures\n",
    "\n",
    "The Infrastructure Investment and Jobs Act garnered broad support from lawmakers across the political spectrum, with both Democrats and Republicans emphasizing the importance of investing in America's infrastructure to create jobs, stimulate economic growth, and improve the quality of life for all citizens. President [Insert Name] is expected to sign the bill into law, signaling a significant achievement for his administration and for bipartisan cooperation in Congress.\n",
    "\n",
    "While the passage of the Infrastructure Investment and Jobs Act represents a major legislative victory, some critics have raised concerns about the bill's funding mechanisms and potential impact on the national debt. However, supporters argue that the long-term benefits of investing in infrastructure far outweigh the short-term costs, and that the bill's provisions are essential for addressing critical infrastructure challenges facing the nation.\n",
    "\n",
    "The bipartisan passage of the Infrastructure Investment and Jobs Act underscores the importance of collaboration and compromise in addressing complex issues and advancing the national interest. Moving forward, the implementation of the legislation will be critical in delivering tangible benefits to communities across the country and ensuring a more resilient and prosperous future for all Americans.\n",
    "\"\"\"\n",
    "fake_news_detector(political_news_article)"
   ]
  },
  {
   "cell_type": "code",
   "execution_count": 49,
   "id": "81f84b31-4bc3-4c24-ade1-a900c5a2020b",
   "metadata": {},
   "outputs": [
    {
     "name": "stdout",
     "output_type": "stream",
     "text": [
      "[[0.83082854 0.16917146]]\n"
     ]
    },
    {
     "data": {
      "text/plain": [
       "False"
      ]
     },
     "execution_count": 49,
     "metadata": {},
     "output_type": "execute_result"
    }
   ],
   "source": [
    "fake_political_news_article = \"\"\"\n",
    "Title: Shocking Revelation: Government Insider Exposes Corruption Scandal at Highest Levels\n",
    "\n",
    "Article:\n",
    "\n",
    "In a bombshell revelation that has sent shockwaves through the nation's capital, a high-ranking government insider has come forward to expose a widespread corruption scandal at the highest levels of power. According to the whistleblower, who spoke on condition of anonymity, top officials within the administration have been involved in a complex web of bribery, kickbacks, and backroom deals aimed at enriching themselves at the expense of the American people.\n",
    "\n",
    "The whistleblower alleges that the corruption extends to multiple government agencies and spans across various policy areas, including healthcare, environmental regulation, and national security. Shockingly, the whistleblower claims that efforts to investigate and prosecute the corruption have been thwarted by powerful political forces seeking to protect their own interests and maintain their grip on power.\n",
    "\n",
    "The scandal has sparked outrage among lawmakers and citizens alike, with calls for a full-scale investigation and accountability for those implicated in the wrongdoing. Critics of the administration have seized on the revelations as evidence of systemic corruption and incompetence, calling for sweeping reforms to restore integrity and transparency to government.\n",
    "\n",
    "However, supporters of the administration have dismissed the allegations as politically motivated attacks aimed at undermining the president and his agenda. They argue that the whistleblower is part of a deep state conspiracy seeking to sabotage the administration's efforts to enact positive change and deliver on its promises to the American people.\n",
    "\n",
    "Despite the denials and deflections from the administration, the whistleblower's claims have reignited concerns about ethics and accountability in government. As calls for accountability grow louder, the nation braces for a potentially explosive showdown between those seeking truth and justice and those seeking to protect their own power and privilege.\n",
    "\n",
    "Stay tuned for further developments as this shocking scandal continues to unfold, shaking the foundations of the nation's capital and testing the resilience of American democracy.\n",
    "\"\"\"\n",
    "fake_news_detector(fake_political_news_article)"
   ]
  },
  {
   "cell_type": "code",
   "execution_count": 50,
   "id": "2209d605-7443-4098-ba4d-d93ca4a6a664",
   "metadata": {},
   "outputs": [],
   "source": [
    "onion = \"NEW YORK—Emphasizing that it was their only option amid the rampant protests that had erupted on campus, Columbia University announced Monday that it had given students the option to finish classes from prison. “Given the current political turmoil and the many safety hazards it poses, all current students will be permitted to complete their semesters from the New York penitentiary system,” said Columbia University President Minouche Shafik, adding that in light of recent events, all members of the community were encouraged to attend lectures virtually from the comfort of their dark, windowless, 6-by-8-foot cell. “While we wish we could continue in-person learning, the best way to keep our university safe is to allow students, faculty, and staff to complete the last few weeks of the school from behind bars. Also, should students need, they will be permitted to accept their diplomas virtually, regardless of whether they are in the back of a police van, at Rikers Island, or in solitary confinement somewhere off the grid.” At press time, Shafik added that any student who had been beaten to death could, if need be, also complete classes from their morgue.\""
   ]
  },
  {
   "cell_type": "code",
   "execution_count": 51,
   "id": "1674cf37-f04d-48c1-9c06-1984ec870607",
   "metadata": {},
   "outputs": [
    {
     "name": "stdout",
     "output_type": "stream",
     "text": [
      "[[0.55562308 0.44437692]]\n"
     ]
    },
    {
     "data": {
      "text/plain": [
       "False"
      ]
     },
     "execution_count": 51,
     "metadata": {},
     "output_type": "execute_result"
    }
   ],
   "source": [
    "fake_news_detector(onion)"
   ]
  },
  {
   "cell_type": "code",
   "execution_count": 52,
   "id": "a1dc03a6-8d30-4cff-b0c3-8332d786dfbc",
   "metadata": {},
   "outputs": [
    {
     "name": "stdout",
     "output_type": "stream",
     "text": [
      "[[0.84105362 0.15894638]]\n"
     ]
    },
    {
     "data": {
      "text/plain": [
       "False"
      ]
     },
     "execution_count": 52,
     "metadata": {},
     "output_type": "execute_result"
    }
   ],
   "source": [
    "def read_file_as_string(file_path, encoding='utf-8'):\n",
    "    with open(file_path, 'r', encoding=encoding) as file:\n",
    "        file_contents = file.read()\n",
    "    return file_contents.encode('utf-8')\n",
    "\n",
    "# Example usage\n",
    "file_path = 'Article.txt'\n",
    "file_contents = read_file_as_string(file_path)\n",
    "fake_news_detector(file_contents.decode('utf-8'))\n"
   ]
  },
  {
   "cell_type": "code",
   "execution_count": null,
   "id": "5274129e-ae63-473c-9d17-063e67806406",
   "metadata": {},
   "outputs": [],
   "source": []
  }
 ],
 "metadata": {
  "kernelspec": {
   "display_name": "Python 3 (ipykernel)",
   "language": "python",
   "name": "python3"
  },
  "language_info": {
   "codemirror_mode": {
    "name": "ipython",
    "version": 3
   },
   "file_extension": ".py",
   "mimetype": "text/x-python",
   "name": "python",
   "nbconvert_exporter": "python",
   "pygments_lexer": "ipython3",
   "version": "3.11.7"
  }
 },
 "nbformat": 4,
 "nbformat_minor": 5
}
